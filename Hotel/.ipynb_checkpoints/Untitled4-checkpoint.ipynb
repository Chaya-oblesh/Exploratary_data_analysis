{
 "cells": [
  {
   "cell_type": "code",
   "execution_count": null,
   "id": "2c7bc3fb-ac07-4fd2-8fc4-ba9ae721f4f1",
   "metadata": {},
   "outputs": [],
   "source": [
    "Cost Data\n",
    "Given a dictionary of items and their costs, write a calculator function to calculate the total cost of the items bought plus a given tax. Costs = {'socks':5, 'shoes':60, 'sweater':30} .Tax is at 9% . \n",
    "Items bought - 2 Socks,1 sweater, 1 shoe\n",
    "#Output should be rounded to two decimal places."
   ]
  },
  {
   "cell_type": "code",
   "execution_count": null,
   "id": "167f7f13-c6fd-4526-9f92-be494c816458",
   "metadata": {},
   "outputs": [],
   "source": [
    "x = Costs = {'socks':5, 'shoes':60, 'sweater':30}"
   ]
  },
  {
   "cell_type": "code",
   "execution_count": 3,
   "id": "ac88e72f-7370-4648-8cea-d91167ece676",
   "metadata": {},
   "outputs": [],
   "source": [
    "def calculator(item1, item2, item3):\n",
    "    price1 = 5 * item1\n",
    "    price2 = 60 * item2\n",
    "    price3 = 30 * item3\n",
    "    total_price = price1 + price2 + price3\n",
    "    total_price_along_with_tax = (total_price) + (0.09 * total_price)\n",
    "    return total_price_along_with_tax"
   ]
  },
  {
   "cell_type": "code",
   "execution_count": 4,
   "id": "a965c927-353a-489b-a4fe-611b0118667d",
   "metadata": {},
   "outputs": [
    {
     "data": {
      "text/plain": [
       "109.0"
      ]
     },
     "execution_count": 4,
     "metadata": {},
     "output_type": "execute_result"
    }
   ],
   "source": [
    "calculator(2, 1, 1)"
   ]
  },
  {
   "cell_type": "code",
   "execution_count": null,
   "id": "3498cf18-052c-4a7f-99e2-6ba5f7385743",
   "metadata": {},
   "outputs": [],
   "source": [
    "SQL Question - What does this query do ? Explain.\n",
    "SELECT\n",
    "\tauthors.author_name,\n",
    "\tSUM(books.sold_copies) AS sold_sum\n",
    "FROM\n",
    "\tauthors\n",
    "LEFT JOIN books ON\n",
    "\tbooks.book_name = authors.book_name\n",
    "GROUP BY\n",
    "\tauthors.author_name\n",
    "ORDER BY\n",
    "\tsold_sum DESC\n",
    "LIMIT 3;"
   ]
  },
  {
   "cell_type": "code",
   "execution_count": null,
   "id": "8328bfa2-b8ef-4d18-aedd-5a5dac62bb1c",
   "metadata": {},
   "outputs": [],
   "source": [
    "TTT, HHH, HHT,HTH,TTH,THT, THH"
   ]
  },
  {
   "cell_type": "code",
   "execution_count": null,
   "id": "d1d636ee-49cc-4c54-ad79-9799812febb0",
   "metadata": {},
   "outputs": [],
   "source": []
  },
  {
   "cell_type": "code",
   "execution_count": null,
   "id": "f24f56a0-a146-4ebe-8ac8-f60c3b7e320f",
   "metadata": {},
   "outputs": [],
   "source": []
  },
  {
   "cell_type": "code",
   "execution_count": null,
   "id": "b50a583e-70c1-41c9-8821-5de1550242ba",
   "metadata": {},
   "outputs": [],
   "source": []
  },
  {
   "cell_type": "code",
   "execution_count": null,
   "id": "9cae8507-8d18-4a01-922d-2114bc5a84ca",
   "metadata": {},
   "outputs": [],
   "source": []
  },
  {
   "cell_type": "code",
   "execution_count": null,
   "id": "5a7fa8f3-2b4b-4d57-a27c-b5187c87cf40",
   "metadata": {},
   "outputs": [],
   "source": []
  },
  {
   "cell_type": "code",
   "execution_count": null,
   "id": "c7847d06-2aa0-4572-b0ef-6472e2f3608e",
   "metadata": {},
   "outputs": [],
   "source": []
  },
  {
   "cell_type": "code",
   "execution_count": null,
   "id": "d5bcdd11-0487-42f5-8b92-d87dbff63a1a",
   "metadata": {},
   "outputs": [],
   "source": []
  },
  {
   "cell_type": "code",
   "execution_count": null,
   "id": "c3a5191d-a5c9-43a2-9445-f0a33c60ee19",
   "metadata": {},
   "outputs": [],
   "source": []
  }
 ],
 "metadata": {
  "kernelspec": {
   "display_name": "Python 3 (ipykernel)",
   "language": "python",
   "name": "python3"
  },
  "language_info": {
   "codemirror_mode": {
    "name": "ipython",
    "version": 3
   },
   "file_extension": ".py",
   "mimetype": "text/x-python",
   "name": "python",
   "nbconvert_exporter": "python",
   "pygments_lexer": "ipython3",
   "version": "3.10.6"
  }
 },
 "nbformat": 4,
 "nbformat_minor": 5
}
