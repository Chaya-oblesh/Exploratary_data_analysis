{
 "cells": [
  {
   "cell_type": "code",
   "execution_count": 1,
   "id": "ab74b7f7-6bdf-494c-b190-89b850bccd51",
   "metadata": {},
   "outputs": [],
   "source": [
    "import numpy as np \n",
    "import pandas as pd\n",
    "import seaborn as sns"
   ]
  },
  {
   "cell_type": "code",
   "execution_count": 2,
   "id": "47902d22-1673-4900-beae-6daedadc3b95",
   "metadata": {},
   "outputs": [],
   "source": [
    "data = pd.read_csv('FastFoodNutritionMenu.csv')"
   ]
  },
  {
   "cell_type": "code",
   "execution_count": 3,
   "id": "aab79c22-8ea5-4fef-947c-a998d01f6613",
   "metadata": {},
   "outputs": [
    {
     "data": {
      "text/html": [
       "<div>\n",
       "<style scoped>\n",
       "    .dataframe tbody tr th:only-of-type {\n",
       "        vertical-align: middle;\n",
       "    }\n",
       "\n",
       "    .dataframe tbody tr th {\n",
       "        vertical-align: top;\n",
       "    }\n",
       "\n",
       "    .dataframe thead th {\n",
       "        text-align: right;\n",
       "    }\n",
       "</style>\n",
       "<table border=\"1\" class=\"dataframe\">\n",
       "  <thead>\n",
       "    <tr style=\"text-align: right;\">\n",
       "      <th></th>\n",
       "      <th>Company</th>\n",
       "      <th>Item</th>\n",
       "      <th>Calories</th>\n",
       "      <th>Calories from\\nFat</th>\n",
       "      <th>Total Fat\\n(g)</th>\n",
       "      <th>Saturated Fat\\n(g)</th>\n",
       "      <th>Trans Fat\\n(g)</th>\n",
       "      <th>Cholesterol\\n(mg)</th>\n",
       "      <th>Sodium \\n(mg)</th>\n",
       "      <th>Carbs\\n(g)</th>\n",
       "      <th>Fiber\\n(g)</th>\n",
       "      <th>Sugars\\n(g)</th>\n",
       "      <th>Protein\\n(g)</th>\n",
       "      <th>Weight Watchers\\nPnts</th>\n",
       "    </tr>\n",
       "  </thead>\n",
       "  <tbody>\n",
       "    <tr>\n",
       "      <th>0</th>\n",
       "      <td>McDonald’s</td>\n",
       "      <td>Hamburger</td>\n",
       "      <td>250</td>\n",
       "      <td>80</td>\n",
       "      <td>9</td>\n",
       "      <td>3.5</td>\n",
       "      <td>0.5</td>\n",
       "      <td>25</td>\n",
       "      <td>520</td>\n",
       "      <td>31</td>\n",
       "      <td>2</td>\n",
       "      <td>6</td>\n",
       "      <td>12</td>\n",
       "      <td>247.5</td>\n",
       "    </tr>\n",
       "    <tr>\n",
       "      <th>1</th>\n",
       "      <td>McDonald’s</td>\n",
       "      <td>Cheeseburger</td>\n",
       "      <td>300</td>\n",
       "      <td>110</td>\n",
       "      <td>12</td>\n",
       "      <td>6</td>\n",
       "      <td>0.5</td>\n",
       "      <td>40</td>\n",
       "      <td>750</td>\n",
       "      <td>33</td>\n",
       "      <td>2</td>\n",
       "      <td>6</td>\n",
       "      <td>15</td>\n",
       "      <td>297</td>\n",
       "    </tr>\n",
       "    <tr>\n",
       "      <th>2</th>\n",
       "      <td>McDonald’s</td>\n",
       "      <td>Double Cheeseburger</td>\n",
       "      <td>440</td>\n",
       "      <td>210</td>\n",
       "      <td>23</td>\n",
       "      <td>11</td>\n",
       "      <td>1.5</td>\n",
       "      <td>80</td>\n",
       "      <td>1150</td>\n",
       "      <td>34</td>\n",
       "      <td>2</td>\n",
       "      <td>7</td>\n",
       "      <td>25</td>\n",
       "      <td>433</td>\n",
       "    </tr>\n",
       "    <tr>\n",
       "      <th>3</th>\n",
       "      <td>McDonald’s</td>\n",
       "      <td>McDouble</td>\n",
       "      <td>390</td>\n",
       "      <td>170</td>\n",
       "      <td>19</td>\n",
       "      <td>8</td>\n",
       "      <td>1</td>\n",
       "      <td>65</td>\n",
       "      <td>920</td>\n",
       "      <td>33</td>\n",
       "      <td>2</td>\n",
       "      <td>7</td>\n",
       "      <td>22</td>\n",
       "      <td>383</td>\n",
       "    </tr>\n",
       "    <tr>\n",
       "      <th>4</th>\n",
       "      <td>McDonald’s</td>\n",
       "      <td>Quarter Pounder® with Cheese</td>\n",
       "      <td>510</td>\n",
       "      <td>230</td>\n",
       "      <td>26</td>\n",
       "      <td>12</td>\n",
       "      <td>1.5</td>\n",
       "      <td>90</td>\n",
       "      <td>1190</td>\n",
       "      <td>40</td>\n",
       "      <td>3</td>\n",
       "      <td>9</td>\n",
       "      <td>29</td>\n",
       "      <td>502</td>\n",
       "    </tr>\n",
       "  </tbody>\n",
       "</table>\n",
       "</div>"
      ],
      "text/plain": [
       "      Company                           Item Calories Calories from\\nFat  \\\n",
       "0  McDonald’s                      Hamburger      250                 80   \n",
       "1  McDonald’s                   Cheeseburger      300                110   \n",
       "2  McDonald’s            Double Cheeseburger      440                210   \n",
       "3  McDonald’s                       McDouble      390                170   \n",
       "4  McDonald’s   Quarter Pounder® with Cheese      510                230   \n",
       "\n",
       "  Total Fat\\n(g) Saturated Fat\\n(g) Trans Fat\\n(g) Cholesterol\\n(mg)  \\\n",
       "0              9                3.5            0.5                25   \n",
       "1             12                  6            0.5                40   \n",
       "2             23                 11            1.5                80   \n",
       "3             19                  8              1                65   \n",
       "4             26                 12            1.5                90   \n",
       "\n",
       "  Sodium \\n(mg) Carbs\\n(g) Fiber\\n(g) Sugars\\n(g) Protein\\n(g)  \\\n",
       "0           520         31          2           6           12   \n",
       "1           750         33          2           6           15   \n",
       "2          1150         34          2           7           25   \n",
       "3           920         33          2           7           22   \n",
       "4          1190         40          3           9           29   \n",
       "\n",
       "  Weight Watchers\\nPnts  \n",
       "0                 247.5  \n",
       "1                   297  \n",
       "2                   433  \n",
       "3                   383  \n",
       "4                   502  "
      ]
     },
     "execution_count": 3,
     "metadata": {},
     "output_type": "execute_result"
    }
   ],
   "source": [
    "data.head()"
   ]
  },
  {
   "cell_type": "code",
   "execution_count": 4,
   "id": "9bdfa952-5b24-4a11-9c4b-22b6cf8352f6",
   "metadata": {},
   "outputs": [
    {
     "name": "stdout",
     "output_type": "stream",
     "text": [
      "<class 'pandas.core.frame.DataFrame'>\n",
      "RangeIndex: 1159 entries, 0 to 1158\n",
      "Data columns (total 14 columns):\n",
      " #   Column                Non-Null Count  Dtype \n",
      "---  ------                --------------  ----- \n",
      " 0   Company               1159 non-null   object\n",
      " 1   Item                  1159 non-null   object\n",
      " 2   Calories              1157 non-null   object\n",
      " 3   Calories from\n",
      "Fat     1098 non-null   object\n",
      " 4   Total Fat\n",
      "(g)         1101 non-null   object\n",
      " 5   Saturated Fat\n",
      "(g)     1101 non-null   object\n",
      " 6   Trans Fat\n",
      "(g)         1101 non-null   object\n",
      " 7   Cholesterol\n",
      "(mg)      1157 non-null   object\n",
      " 8   Sodium \n",
      "(mg)          1157 non-null   object\n",
      " 9   Carbs\n",
      "(g)             1101 non-null   object\n",
      " 10  Fiber\n",
      "(g)             1101 non-null   object\n",
      " 11  Sugars\n",
      "(g)            1157 non-null   object\n",
      " 12  Protein\n",
      "(g)           1027 non-null   object\n",
      " 13  Weight Watchers\n",
      "Pnts  524 non-null    object\n",
      "dtypes: object(14)\n",
      "memory usage: 126.9+ KB\n"
     ]
    }
   ],
   "source": [
    "data.info()"
   ]
  },
  {
   "cell_type": "code",
   "execution_count": 8,
   "id": "70885ae6-acb5-4748-8b6b-1a2b90a0c57d",
   "metadata": {},
   "outputs": [
    {
     "data": {
      "text/plain": [
       "Company                  object\n",
       "Item                     object\n",
       "Calories                 object\n",
       "Calories from\\nFat       object\n",
       "Total Fat\\n(g)           object\n",
       "Saturated Fat\\n(g)       object\n",
       "Trans Fat\\n(g)           object\n",
       "Cholesterol\\n(mg)        object\n",
       "Sodium \\n(mg)            object\n",
       "Carbs\\n(g)               object\n",
       "Fiber\\n(g)               object\n",
       "Sugars\\n(g)              object\n",
       "Protein\\n(g)             object\n",
       "Weight Watchers\\nPnts    object\n",
       "dtype: object"
      ]
     },
     "execution_count": 8,
     "metadata": {},
     "output_type": "execute_result"
    }
   ],
   "source": [
    "data.dtypes"
   ]
  },
  {
   "cell_type": "code",
   "execution_count": 15,
   "id": "1a4429ec-98b4-4b15-8f7a-0b4718557e32",
   "metadata": {},
   "outputs": [],
   "source": [
    "col_conv = [ 'Calories', 'Calories from\\nFat', 'Total Fat\\n(g)',\n",
    "       'Saturated Fat\\n(g)', 'Trans Fat\\n(g)', 'Cholesterol\\n(mg)',\n",
    "       'Sodium \\n(mg)', 'Carbs\\n(g)', 'Fiber\\n(g)', 'Sugars\\n(g)',\n",
    "       'Protein\\n(g)', 'Weight Watchers\\nPnts'] \n",
    "for column in col_conv:\n",
    "    data[column] = pd.to_numeric(data[column], errors='coerce')"
   ]
  },
  {
   "cell_type": "code",
   "execution_count": 16,
   "id": "789a1119-8c9e-443a-baf8-a8d040c371a7",
   "metadata": {},
   "outputs": [
    {
     "data": {
      "text/plain": [
       "Company                   object\n",
       "Item                      object\n",
       "Calories                 float64\n",
       "Calories from\\nFat       float64\n",
       "Total Fat\\n(g)           float64\n",
       "Saturated Fat\\n(g)       float64\n",
       "Trans Fat\\n(g)           float64\n",
       "Cholesterol\\n(mg)        float64\n",
       "Sodium \\n(mg)            float64\n",
       "Carbs\\n(g)               float64\n",
       "Fiber\\n(g)               float64\n",
       "Sugars\\n(g)              float64\n",
       "Protein\\n(g)             float64\n",
       "Weight Watchers\\nPnts    float64\n",
       "dtype: object"
      ]
     },
     "execution_count": 16,
     "metadata": {},
     "output_type": "execute_result"
    }
   ],
   "source": [
    "data.dtypes"
   ]
  },
  {
   "cell_type": "code",
   "execution_count": 17,
   "id": "f4b839bb-00bc-42c6-96e6-2434551b6e0c",
   "metadata": {},
   "outputs": [
    {
     "data": {
      "text/plain": [
       "McDonald’s     330\n",
       "KFC            218\n",
       "Burger King    199\n",
       "Taco Bell      183\n",
       "Wendy’s        155\n",
       "Pizza Hut       74\n",
       "Name: Company, dtype: int64"
      ]
     },
     "execution_count": 17,
     "metadata": {},
     "output_type": "execute_result"
    }
   ],
   "source": [
    "data['Company'].value_counts()"
   ]
  },
  {
   "cell_type": "code",
   "execution_count": 18,
   "id": "c54ebbc7-4e44-40c1-963c-89810b263598",
   "metadata": {},
   "outputs": [
    {
     "data": {
      "text/html": [
       "<div>\n",
       "<style scoped>\n",
       "    .dataframe tbody tr th:only-of-type {\n",
       "        vertical-align: middle;\n",
       "    }\n",
       "\n",
       "    .dataframe tbody tr th {\n",
       "        vertical-align: top;\n",
       "    }\n",
       "\n",
       "    .dataframe thead th {\n",
       "        text-align: right;\n",
       "    }\n",
       "</style>\n",
       "<table border=\"1\" class=\"dataframe\">\n",
       "  <thead>\n",
       "    <tr style=\"text-align: right;\">\n",
       "      <th></th>\n",
       "      <th>Company</th>\n",
       "      <th>Item</th>\n",
       "      <th>Calories</th>\n",
       "      <th>Calories from\\nFat</th>\n",
       "      <th>Total Fat\\n(g)</th>\n",
       "      <th>Saturated Fat\\n(g)</th>\n",
       "      <th>Trans Fat\\n(g)</th>\n",
       "      <th>Cholesterol\\n(mg)</th>\n",
       "      <th>Sodium \\n(mg)</th>\n",
       "      <th>Carbs\\n(g)</th>\n",
       "      <th>Fiber\\n(g)</th>\n",
       "      <th>Sugars\\n(g)</th>\n",
       "      <th>Protein\\n(g)</th>\n",
       "      <th>Weight Watchers\\nPnts</th>\n",
       "    </tr>\n",
       "  </thead>\n",
       "  <tbody>\n",
       "    <tr>\n",
       "      <th>330</th>\n",
       "      <td>Burger King</td>\n",
       "      <td>Whopper® Sandwich</td>\n",
       "      <td>660.0</td>\n",
       "      <td>360.0</td>\n",
       "      <td>40.0</td>\n",
       "      <td>12.0</td>\n",
       "      <td>1.5</td>\n",
       "      <td>90.0</td>\n",
       "      <td>980.0</td>\n",
       "      <td>49.0</td>\n",
       "      <td>2.0</td>\n",
       "      <td>11.0</td>\n",
       "      <td>28.0</td>\n",
       "      <td>655.0</td>\n",
       "    </tr>\n",
       "    <tr>\n",
       "      <th>331</th>\n",
       "      <td>Burger King</td>\n",
       "      <td>Whopper® Sandwich with Cheese</td>\n",
       "      <td>740.0</td>\n",
       "      <td>420.0</td>\n",
       "      <td>46.0</td>\n",
       "      <td>16.0</td>\n",
       "      <td>2.0</td>\n",
       "      <td>115.0</td>\n",
       "      <td>1340.0</td>\n",
       "      <td>50.0</td>\n",
       "      <td>2.0</td>\n",
       "      <td>11.0</td>\n",
       "      <td>32.0</td>\n",
       "      <td>735.0</td>\n",
       "    </tr>\n",
       "    <tr>\n",
       "      <th>332</th>\n",
       "      <td>Burger King</td>\n",
       "      <td>Bacon &amp; Cheese Whopper® Sandwich</td>\n",
       "      <td>790.0</td>\n",
       "      <td>460.0</td>\n",
       "      <td>51.0</td>\n",
       "      <td>17.0</td>\n",
       "      <td>2.0</td>\n",
       "      <td>125.0</td>\n",
       "      <td>1560.0</td>\n",
       "      <td>50.0</td>\n",
       "      <td>2.0</td>\n",
       "      <td>11.0</td>\n",
       "      <td>35.0</td>\n",
       "      <td>783.0</td>\n",
       "    </tr>\n",
       "    <tr>\n",
       "      <th>333</th>\n",
       "      <td>Burger King</td>\n",
       "      <td>Double Whopper® Sandwich</td>\n",
       "      <td>900.0</td>\n",
       "      <td>520.0</td>\n",
       "      <td>58.0</td>\n",
       "      <td>20.0</td>\n",
       "      <td>3.0</td>\n",
       "      <td>175.0</td>\n",
       "      <td>1050.0</td>\n",
       "      <td>49.0</td>\n",
       "      <td>2.0</td>\n",
       "      <td>11.0</td>\n",
       "      <td>48.0</td>\n",
       "      <td>883.0</td>\n",
       "    </tr>\n",
       "    <tr>\n",
       "      <th>334</th>\n",
       "      <td>Burger King</td>\n",
       "      <td>Double Whopper® Sandwich with Cheese</td>\n",
       "      <td>980.0</td>\n",
       "      <td>580.0</td>\n",
       "      <td>64.0</td>\n",
       "      <td>24.0</td>\n",
       "      <td>3.0</td>\n",
       "      <td>195.0</td>\n",
       "      <td>1410.0</td>\n",
       "      <td>50.0</td>\n",
       "      <td>2.0</td>\n",
       "      <td>11.0</td>\n",
       "      <td>52.0</td>\n",
       "      <td>963.0</td>\n",
       "    </tr>\n",
       "  </tbody>\n",
       "</table>\n",
       "</div>"
      ],
      "text/plain": [
       "         Company                                  Item  Calories  \\\n",
       "330  Burger King                     Whopper® Sandwich     660.0   \n",
       "331  Burger King         Whopper® Sandwich with Cheese     740.0   \n",
       "332  Burger King      Bacon & Cheese Whopper® Sandwich     790.0   \n",
       "333  Burger King              Double Whopper® Sandwich     900.0   \n",
       "334  Burger King  Double Whopper® Sandwich with Cheese     980.0   \n",
       "\n",
       "     Calories from\\nFat  Total Fat\\n(g)  Saturated Fat\\n(g)  Trans Fat\\n(g)  \\\n",
       "330               360.0            40.0                12.0             1.5   \n",
       "331               420.0            46.0                16.0             2.0   \n",
       "332               460.0            51.0                17.0             2.0   \n",
       "333               520.0            58.0                20.0             3.0   \n",
       "334               580.0            64.0                24.0             3.0   \n",
       "\n",
       "     Cholesterol\\n(mg)  Sodium \\n(mg)  Carbs\\n(g)  Fiber\\n(g)  Sugars\\n(g)  \\\n",
       "330               90.0          980.0        49.0         2.0         11.0   \n",
       "331              115.0         1340.0        50.0         2.0         11.0   \n",
       "332              125.0         1560.0        50.0         2.0         11.0   \n",
       "333              175.0         1050.0        49.0         2.0         11.0   \n",
       "334              195.0         1410.0        50.0         2.0         11.0   \n",
       "\n",
       "     Protein\\n(g)  Weight Watchers\\nPnts  \n",
       "330          28.0                  655.0  \n",
       "331          32.0                  735.0  \n",
       "332          35.0                  783.0  \n",
       "333          48.0                  883.0  \n",
       "334          52.0                  963.0  "
      ]
     },
     "execution_count": 18,
     "metadata": {},
     "output_type": "execute_result"
    }
   ],
   "source": [
    "data_mac = data[data['Company'].str.contains(\"McDonald\")]\n",
    "data_KFC = data[data['Company'].str.contains(\"KFC\")]\n",
    "data_Burger_King = data[data['Company'].str.contains(\"Burger King\")]\n",
    "data_Wendy = data[data['Company'].str.contains(\"Wendy\")]\n",
    "data_Pizza = data[data['Company'].str.contains(\"Pizza\")]\n",
    "\n",
    "data_Burger_King.head()\n"
   ]
  },
  {
   "cell_type": "code",
   "execution_count": 19,
   "id": "84ca9dd6-6c8b-4c0e-9ca3-4b1e9ab0bb15",
   "metadata": {},
   "outputs": [
    {
     "data": {
      "text/plain": [
       "<AxesSubplot:>"
      ]
     },
     "execution_count": 19,
     "metadata": {},
     "output_type": "execute_result"
    },
    {
     "data": {
      "image/png": "[encoded data removed]",
      "text/plain": [
       "<Figure size 432x288 with 2 Axes>"
      ]
     },
     "metadata": {
      "needs_background": "light"
     },
     "output_type": "display_data"
    }
   ],
   "source": [
    "sns.heatmap(data_mac.corr())"
   ]
  },
  {
   "cell_type": "code",
   "execution_count": 21,
   "id": "ad48d16e-f848-40d2-bc34-71b572aa3a99",
   "metadata": {},
   "outputs": [
    {
     "data": {
      "text/plain": [
       "<AxesSubplot:>"
      ]
     },
     "execution_count": 21,
     "metadata": {},
     "output_type": "execute_result"
    },
    {
     "data": {
      "image/png": "[encoded data removed]",
      "text/plain": [
       "<Figure size 432x288 with 2 Axes>"
      ]
     },
     "metadata": {
      "needs_background": "light"
     },
     "output_type": "display_data"
    }
   ],
   "source": [
    "sns.heatmap(data_Pizza.corr())"
   ]
  },
  {
   "cell_type": "code",
   "execution_count": 23,
   "id": "7e62213f-57f2-48ad-aab7-0780508e8b7b",
   "metadata": {},
   "outputs": [
    {
     "data": {
      "text/plain": [
       "<AxesSubplot:xlabel='Company', ylabel='Total Fat\\n(g)'>"
      ]
     },
     "execution_count": 23,
     "metadata": {},
     "output_type": "execute_result"
    },
    {
     "data": {
      "image/png": "[encoded data removed]",
      "text/plain": [
       "<Figure size 432x288 with 1 Axes>"
      ]
     },
     "metadata": {
      "needs_background": "light"
     },
     "output_type": "display_data"
    }
   ],
   "source": [
    "sns.barplot(x=data['Company'], y=data['Total Fat\\n(g)'])"
   ]
  },
  {
   "cell_type": "code",
   "execution_count": 24,
   "id": "8bf4043e-4508-474e-9214-8607623d0682",
   "metadata": {},
   "outputs": [
    {
     "data": {
      "text/plain": [
       "<AxesSubplot:xlabel='Company', ylabel='Calories'>"
      ]
     },
     "execution_count": 24,
     "metadata": {},
     "output_type": "execute_result"
    },
    {
     "data": {
      "image/png": "[encoded data removed]",
      "text/plain": [
       "<Figure size 432x288 with 1 Axes>"
      ]
     },
     "metadata": {
      "needs_background": "light"
     },
     "output_type": "display_data"
    }
   ],
   "source": [
    "sns.barplot(x=data['Company'], y=data['Calories'])"
   ]
  },
  {
   "cell_type": "code",
   "execution_count": 25,
   "id": "7fd91d59-6788-4cbc-8ba2-89361814436d",
   "metadata": {},
   "outputs": [
    {
     "data": {
      "text/plain": [
       "<AxesSubplot:xlabel='Company', ylabel='Protein\\n(g)'>"
      ]
     },
     "execution_count": 25,
     "metadata": {},
     "output_type": "execute_result"
    },
    {
     "data": {
      "image/png": "[encoded data removed]",
      "text/plain": [
       "<Figure size 432x288 with 1 Axes>"
      ]
     },
     "metadata": {
      "needs_background": "light"
     },
     "output_type": "display_data"
    }
   ],
   "source": [
    "sns.barplot(x=data['Company'], y=data['Protein\\n(g)'])"
   ]
  },
  {
   "cell_type": "code",
   "execution_count": null,
   "id": "6e57d6d4-e911-4171-ad60-e9fc059ccbac",
   "metadata": {},
   "outputs": [],
   "source": []
  }
 ],
 "metadata": {
  "kernelspec": {
   "display_name": "Python 3 (ipykernel)",
   "language": "python",
   "name": "python3"
  },
  "language_info": {
   "codemirror_mode": {
    "name": "ipython",
    "version": 3
   },
   "file_extension": ".py",
   "mimetype": "text/x-python",
   "name": "python",
   "nbconvert_exporter": "python",
   "pygments_lexer": "ipython3",
   "version": "3.10.6"
  }
 },
 "nbformat": 4,
 "nbformat_minor": 5
}
